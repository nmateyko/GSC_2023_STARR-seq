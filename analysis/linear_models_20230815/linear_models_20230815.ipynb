{
 "cells": [
  {
   "cell_type": "code",
   "execution_count": 1,
   "metadata": {},
   "outputs": [],
   "source": [
    "%matplotlib inline\n",
    "import matplotlib.pyplot as plt\n",
    "import numpy as np\n",
    "import pandas as pd\n",
    "import seaborn as sns\n",
    "from sklearn import metrics\n",
    "from sklearn import model_selection\n",
    "from sklearn import linear_model"
   ]
  },
  {
   "cell_type": "markdown",
   "metadata": {},
   "source": [
    "Load data."
   ]
  },
  {
   "cell_type": "code",
   "execution_count": 2,
   "metadata": {},
   "outputs": [],
   "source": [
    "seq_expression = pd.read_csv(\"../data/linear_models_20230815/rep1_expression_DNA_20_RNA_20_20230815.csv\", index_col=0)\n",
    "motif_scores = pd.read_csv(\"../data/linear_models_20230815/rep1_GOMER_scores_20230815.txt\", sep='\\t', index_col=0)\n",
    "motif_scores.index.name = None"
   ]
  },
  {
   "cell_type": "code",
   "execution_count": 3,
   "metadata": {},
   "outputs": [
    {
     "data": {
      "text/html": [
       "<div>\n",
       "<style scoped>\n",
       "    .dataframe tbody tr th:only-of-type {\n",
       "        vertical-align: middle;\n",
       "    }\n",
       "\n",
       "    .dataframe tbody tr th {\n",
       "        vertical-align: top;\n",
       "    }\n",
       "\n",
       "    .dataframe thead th {\n",
       "        text-align: right;\n",
       "    }\n",
       "</style>\n",
       "<table border=\"1\" class=\"dataframe\">\n",
       "  <thead>\n",
       "    <tr style=\"text-align: right;\">\n",
       "      <th></th>\n",
       "      <th>sequence</th>\n",
       "      <th>log10_RNA_rep1_norm</th>\n",
       "    </tr>\n",
       "  </thead>\n",
       "  <tbody>\n",
       "    <tr>\n",
       "      <th>0</th>\n",
       "      <td>AATGTTTTAGGCCAGTGCCATGGGGTATGAAGTGAGGGGAATTGGG...</td>\n",
       "      <td>1.013224</td>\n",
       "    </tr>\n",
       "    <tr>\n",
       "      <th>1</th>\n",
       "      <td>GCCTACACGTCGTCGTTTGGTCATCACGACTGTAGCCGGACTGGAA...</td>\n",
       "      <td>0.438184</td>\n",
       "    </tr>\n",
       "    <tr>\n",
       "      <th>2</th>\n",
       "      <td>GAGGTGTGCTGTTGACCTGGCGACTGTGACTATGGGGTCTTCACGA...</td>\n",
       "      <td>0.338543</td>\n",
       "    </tr>\n",
       "    <tr>\n",
       "      <th>3</th>\n",
       "      <td>CCTGGAGCGATTGTTTCCACATTCCAGGTCGATGGTGGCTCTTCTT...</td>\n",
       "      <td>0.209343</td>\n",
       "    </tr>\n",
       "    <tr>\n",
       "      <th>4</th>\n",
       "      <td>TTCTCGTTATATGCCTGCTACGTCGCTGCGTTTTTGGCCCGGCCGT...</td>\n",
       "      <td>0.585465</td>\n",
       "    </tr>\n",
       "  </tbody>\n",
       "</table>\n",
       "</div>"
      ],
      "text/plain": [
       "                                            sequence  log10_RNA_rep1_norm\n",
       "0  AATGTTTTAGGCCAGTGCCATGGGGTATGAAGTGAGGGGAATTGGG...             1.013224\n",
       "1  GCCTACACGTCGTCGTTTGGTCATCACGACTGTAGCCGGACTGGAA...             0.438184\n",
       "2  GAGGTGTGCTGTTGACCTGGCGACTGTGACTATGGGGTCTTCACGA...             0.338543\n",
       "3  CCTGGAGCGATTGTTTCCACATTCCAGGTCGATGGTGGCTCTTCTT...             0.209343\n",
       "4  TTCTCGTTATATGCCTGCTACGTCGCTGCGTTTTTGGCCCGGCCGT...             0.585465"
      ]
     },
     "execution_count": 3,
     "metadata": {},
     "output_type": "execute_result"
    }
   ],
   "source": [
    "seq_expression.head()"
   ]
  },
  {
   "cell_type": "code",
   "execution_count": 4,
   "metadata": {},
   "outputs": [
    {
     "data": {
      "text/html": [
       "<div>\n",
       "<style scoped>\n",
       "    .dataframe tbody tr th:only-of-type {\n",
       "        vertical-align: middle;\n",
       "    }\n",
       "\n",
       "    .dataframe tbody tr th {\n",
       "        vertical-align: top;\n",
       "    }\n",
       "\n",
       "    .dataframe thead th {\n",
       "        text-align: right;\n",
       "    }\n",
       "</style>\n",
       "<table border=\"1\" class=\"dataframe\">\n",
       "  <thead>\n",
       "    <tr style=\"text-align: right;\">\n",
       "      <th></th>\n",
       "      <th>AHR_HUMAN.H11MO.0.B</th>\n",
       "      <th>AIRE_HUMAN.H11MO.0.C</th>\n",
       "      <th>ALX1_HUMAN.H11MO.0.B</th>\n",
       "      <th>ANDR_HUMAN.H11MO.0.A</th>\n",
       "      <th>AP2A_HUMAN.H11MO.0.A</th>\n",
       "      <th>AP2B_HUMAN.H11MO.0.B</th>\n",
       "      <th>AP2C_HUMAN.H11MO.0.A</th>\n",
       "      <th>ARI5B_HUMAN.H11MO.0.C</th>\n",
       "      <th>ARNT_HUMAN.H11MO.0.B</th>\n",
       "      <th>ASCL1_HUMAN.H11MO.0.A</th>\n",
       "      <th>...</th>\n",
       "      <th>ZN768_HUMAN.H11MO.0.C</th>\n",
       "      <th>ZN770_HUMAN.H11MO.0.C</th>\n",
       "      <th>ZN816_HUMAN.H11MO.0.C</th>\n",
       "      <th>ZNF18_HUMAN.H11MO.0.C</th>\n",
       "      <th>ZNF41_HUMAN.H11MO.0.C</th>\n",
       "      <th>ZNF76_HUMAN.H11MO.0.C</th>\n",
       "      <th>ZNF8_HUMAN.H11MO.0.C</th>\n",
       "      <th>ZNF85_HUMAN.H11MO.0.C</th>\n",
       "      <th>ZSC22_HUMAN.H11MO.0.C</th>\n",
       "      <th>ZSC31_HUMAN.H11MO.0.C</th>\n",
       "    </tr>\n",
       "  </thead>\n",
       "  <tbody>\n",
       "    <tr>\n",
       "      <th>0</th>\n",
       "      <td>0.000016</td>\n",
       "      <td>9.233030e-09</td>\n",
       "      <td>2.649490e-07</td>\n",
       "      <td>4.705900e-11</td>\n",
       "      <td>1.961760e-05</td>\n",
       "      <td>0.000012</td>\n",
       "      <td>2.042690e-06</td>\n",
       "      <td>4.803570e-05</td>\n",
       "      <td>0.000300</td>\n",
       "      <td>3.961270e-09</td>\n",
       "      <td>...</td>\n",
       "      <td>0.000000e+00</td>\n",
       "      <td>5.131450e-13</td>\n",
       "      <td>6.340070e-10</td>\n",
       "      <td>2.819200e-04</td>\n",
       "      <td>1.110220e-15</td>\n",
       "      <td>3.763210e-12</td>\n",
       "      <td>0.0</td>\n",
       "      <td>2.351990e-11</td>\n",
       "      <td>4.992990e-10</td>\n",
       "      <td>1.799360e-11</td>\n",
       "    </tr>\n",
       "    <tr>\n",
       "      <th>1</th>\n",
       "      <td>0.000013</td>\n",
       "      <td>2.162340e-07</td>\n",
       "      <td>1.321070e-05</td>\n",
       "      <td>1.054470e-10</td>\n",
       "      <td>5.714010e-09</td>\n",
       "      <td>0.000386</td>\n",
       "      <td>6.808270e-09</td>\n",
       "      <td>2.718690e-08</td>\n",
       "      <td>0.002740</td>\n",
       "      <td>5.291150e-08</td>\n",
       "      <td>...</td>\n",
       "      <td>1.398880e-14</td>\n",
       "      <td>0.000000e+00</td>\n",
       "      <td>2.586820e-13</td>\n",
       "      <td>6.766940e-04</td>\n",
       "      <td>2.753350e-14</td>\n",
       "      <td>1.601710e-10</td>\n",
       "      <td>0.0</td>\n",
       "      <td>5.536540e-10</td>\n",
       "      <td>3.280490e-12</td>\n",
       "      <td>1.510970e-09</td>\n",
       "    </tr>\n",
       "    <tr>\n",
       "      <th>2</th>\n",
       "      <td>0.000745</td>\n",
       "      <td>1.522720e-08</td>\n",
       "      <td>8.444500e-08</td>\n",
       "      <td>1.846190e-11</td>\n",
       "      <td>1.426740e-04</td>\n",
       "      <td>0.002027</td>\n",
       "      <td>4.399530e-05</td>\n",
       "      <td>8.431660e-04</td>\n",
       "      <td>0.000112</td>\n",
       "      <td>1.019910e-07</td>\n",
       "      <td>...</td>\n",
       "      <td>2.220450e-16</td>\n",
       "      <td>3.042010e-14</td>\n",
       "      <td>1.176840e-14</td>\n",
       "      <td>6.670010e-06</td>\n",
       "      <td>0.000000e+00</td>\n",
       "      <td>5.240250e-14</td>\n",
       "      <td>0.0</td>\n",
       "      <td>3.521630e-13</td>\n",
       "      <td>2.173860e-10</td>\n",
       "      <td>5.065640e-11</td>\n",
       "    </tr>\n",
       "    <tr>\n",
       "      <th>3</th>\n",
       "      <td>0.000008</td>\n",
       "      <td>8.839240e-09</td>\n",
       "      <td>3.520900e-07</td>\n",
       "      <td>7.152850e-10</td>\n",
       "      <td>7.810420e-12</td>\n",
       "      <td>0.000002</td>\n",
       "      <td>3.276330e-11</td>\n",
       "      <td>2.380240e-06</td>\n",
       "      <td>0.000067</td>\n",
       "      <td>1.533670e-08</td>\n",
       "      <td>...</td>\n",
       "      <td>3.552710e-15</td>\n",
       "      <td>2.220450e-15</td>\n",
       "      <td>6.505910e-14</td>\n",
       "      <td>2.456360e-08</td>\n",
       "      <td>1.887380e-14</td>\n",
       "      <td>1.320720e-12</td>\n",
       "      <td>0.0</td>\n",
       "      <td>1.986900e-11</td>\n",
       "      <td>4.864160e-10</td>\n",
       "      <td>3.737500e-11</td>\n",
       "    </tr>\n",
       "    <tr>\n",
       "      <th>4</th>\n",
       "      <td>0.000021</td>\n",
       "      <td>1.547580e-06</td>\n",
       "      <td>5.456370e-09</td>\n",
       "      <td>9.516250e-11</td>\n",
       "      <td>5.096480e-06</td>\n",
       "      <td>0.001889</td>\n",
       "      <td>1.030260e-05</td>\n",
       "      <td>2.353830e-06</td>\n",
       "      <td>0.000089</td>\n",
       "      <td>5.207720e-10</td>\n",
       "      <td>...</td>\n",
       "      <td>0.000000e+00</td>\n",
       "      <td>8.881780e-16</td>\n",
       "      <td>7.696070e-13</td>\n",
       "      <td>9.683220e-07</td>\n",
       "      <td>7.904790e-14</td>\n",
       "      <td>5.107030e-15</td>\n",
       "      <td>0.0</td>\n",
       "      <td>2.817080e-12</td>\n",
       "      <td>4.234080e-11</td>\n",
       "      <td>2.704020e-10</td>\n",
       "    </tr>\n",
       "  </tbody>\n",
       "</table>\n",
       "<p>5 rows × 401 columns</p>\n",
       "</div>"
      ],
      "text/plain": [
       "   AHR_HUMAN.H11MO.0.B  AIRE_HUMAN.H11MO.0.C  ALX1_HUMAN.H11MO.0.B  \\\n",
       "0             0.000016          9.233030e-09          2.649490e-07   \n",
       "1             0.000013          2.162340e-07          1.321070e-05   \n",
       "2             0.000745          1.522720e-08          8.444500e-08   \n",
       "3             0.000008          8.839240e-09          3.520900e-07   \n",
       "4             0.000021          1.547580e-06          5.456370e-09   \n",
       "\n",
       "   ANDR_HUMAN.H11MO.0.A  AP2A_HUMAN.H11MO.0.A  AP2B_HUMAN.H11MO.0.B  \\\n",
       "0          4.705900e-11          1.961760e-05              0.000012   \n",
       "1          1.054470e-10          5.714010e-09              0.000386   \n",
       "2          1.846190e-11          1.426740e-04              0.002027   \n",
       "3          7.152850e-10          7.810420e-12              0.000002   \n",
       "4          9.516250e-11          5.096480e-06              0.001889   \n",
       "\n",
       "   AP2C_HUMAN.H11MO.0.A  ARI5B_HUMAN.H11MO.0.C  ARNT_HUMAN.H11MO.0.B  \\\n",
       "0          2.042690e-06           4.803570e-05              0.000300   \n",
       "1          6.808270e-09           2.718690e-08              0.002740   \n",
       "2          4.399530e-05           8.431660e-04              0.000112   \n",
       "3          3.276330e-11           2.380240e-06              0.000067   \n",
       "4          1.030260e-05           2.353830e-06              0.000089   \n",
       "\n",
       "   ASCL1_HUMAN.H11MO.0.A  ...  ZN768_HUMAN.H11MO.0.C  ZN770_HUMAN.H11MO.0.C  \\\n",
       "0           3.961270e-09  ...           0.000000e+00           5.131450e-13   \n",
       "1           5.291150e-08  ...           1.398880e-14           0.000000e+00   \n",
       "2           1.019910e-07  ...           2.220450e-16           3.042010e-14   \n",
       "3           1.533670e-08  ...           3.552710e-15           2.220450e-15   \n",
       "4           5.207720e-10  ...           0.000000e+00           8.881780e-16   \n",
       "\n",
       "   ZN816_HUMAN.H11MO.0.C  ZNF18_HUMAN.H11MO.0.C  ZNF41_HUMAN.H11MO.0.C  \\\n",
       "0           6.340070e-10           2.819200e-04           1.110220e-15   \n",
       "1           2.586820e-13           6.766940e-04           2.753350e-14   \n",
       "2           1.176840e-14           6.670010e-06           0.000000e+00   \n",
       "3           6.505910e-14           2.456360e-08           1.887380e-14   \n",
       "4           7.696070e-13           9.683220e-07           7.904790e-14   \n",
       "\n",
       "   ZNF76_HUMAN.H11MO.0.C  ZNF8_HUMAN.H11MO.0.C  ZNF85_HUMAN.H11MO.0.C  \\\n",
       "0           3.763210e-12                   0.0           2.351990e-11   \n",
       "1           1.601710e-10                   0.0           5.536540e-10   \n",
       "2           5.240250e-14                   0.0           3.521630e-13   \n",
       "3           1.320720e-12                   0.0           1.986900e-11   \n",
       "4           5.107030e-15                   0.0           2.817080e-12   \n",
       "\n",
       "   ZSC22_HUMAN.H11MO.0.C  ZSC31_HUMAN.H11MO.0.C  \n",
       "0           4.992990e-10           1.799360e-11  \n",
       "1           3.280490e-12           1.510970e-09  \n",
       "2           2.173860e-10           5.065640e-11  \n",
       "3           4.864160e-10           3.737500e-11  \n",
       "4           4.234080e-11           2.704020e-10  \n",
       "\n",
       "[5 rows x 401 columns]"
      ]
     },
     "execution_count": 4,
     "metadata": {},
     "output_type": "execute_result"
    }
   ],
   "source": [
    "motif_scores.head()"
   ]
  },
  {
   "cell_type": "code",
   "execution_count": 5,
   "metadata": {},
   "outputs": [
    {
     "name": "stdout",
     "output_type": "stream",
     "text": [
      "(70059, 2)\n",
      "(70059, 401)\n"
     ]
    }
   ],
   "source": [
    "print(seq_expression.shape)\n",
    "print(motif_scores.shape)"
   ]
  },
  {
   "cell_type": "markdown",
   "metadata": {},
   "source": [
    "Make train/validation/test splits."
   ]
  },
  {
   "cell_type": "code",
   "execution_count": 6,
   "metadata": {},
   "outputs": [],
   "source": [
    "X_train, X_test, y_train, y_test = model_selection.train_test_split(\n",
    "    motif_scores, seq_expression['log10_RNA_rep1_norm'], test_size=0.1, random_state=11)\n",
    "X_train, X_val, y_train, y_val = model_selection.train_test_split(\n",
    "    X_train, y_train, test_size=1/9, random_state=11)"
   ]
  },
  {
   "cell_type": "code",
   "execution_count": 7,
   "metadata": {},
   "outputs": [
    {
     "name": "stdout",
     "output_type": "stream",
     "text": [
      "(56047, 401)\n",
      "(56047,)\n",
      "(7006, 401)\n",
      "(7006,)\n",
      "(7006, 401)\n",
      "(7006,)\n"
     ]
    }
   ],
   "source": [
    "for i in [X_train, y_train, X_val, y_val, X_test, y_test]:\n",
    "    print(i.shape)"
   ]
  },
  {
   "cell_type": "code",
   "execution_count": 8,
   "metadata": {},
   "outputs": [],
   "source": [
    "def fit_and_eval_model(model, X_train, y_train, X_val, y_val, random_state=11):\n",
    "    model.fit(X_train, y_train)\n",
    "    train_MSE = metrics.mean_squared_error(y_train, model.predict(X_train))\n",
    "    train_score = model.score(X_train, y_train)\n",
    "    y_pred = model.predict(X_val)\n",
    "    val_MSE = metrics.mean_squared_error(y_val, y_pred)\n",
    "    val_score = model.score(X_val, y_val)\n",
    "    return {'model': model, 'train_MSE': train_MSE, 'train_score': train_score,\n",
    "            'val_MSE': val_MSE, 'val_score': val_score,}"
   ]
  },
  {
   "cell_type": "code",
   "execution_count": 9,
   "metadata": {},
   "outputs": [],
   "source": [
    "def plot_train_val(results, params, metric, xlabel, ylabel, log=True):\n",
    "    train_scores = [i[f\"train_{metric}\"] for i in results]\n",
    "    val_scores = [i[f\"val_{metric}\"] for i in results]\n",
    "    plt.plot(params, train_scores, 'bo', label=\"train\")\n",
    "    plt.plot(params, val_scores, 'go', label=\"val\")\n",
    "    if log:\n",
    "        plt.xscale('log')\n",
    "    plt.xlabel(xlabel)\n",
    "    plt.ylabel(ylabel)\n",
    "    plt.legend()\n",
    "    plt.show()"
   ]
  },
  {
   "cell_type": "markdown",
   "metadata": {},
   "source": [
    "Try OLS regression."
   ]
  },
  {
   "cell_type": "code",
   "execution_count": 10,
   "metadata": {},
   "outputs": [
    {
     "name": "stdout",
     "output_type": "stream",
     "text": [
      "0.058914083572971065 0.011042882673659049 0.3500752554046036 -4.979317394414077\n"
     ]
    }
   ],
   "source": [
    "model = linear_model.LinearRegression()\n",
    "model.fit(X_train, y_train)\n",
    "train_MSE = metrics.mean_squared_error(y_train, model.predict(X_train))\n",
    "train_score = model.score(X_train, y_train)\n",
    "y_pred = model.predict(X_val)\n",
    "val_MSE = metrics.mean_squared_error(y_val, y_pred)\n",
    "val_score = model.score(X_val, y_val)\n",
    "print(train_MSE, train_score, val_MSE, val_score)"
   ]
  },
  {
   "cell_type": "markdown",
   "metadata": {},
   "source": [
    "Try lasso regression."
   ]
  },
  {
   "cell_type": "code",
   "execution_count": 11,
   "metadata": {},
   "outputs": [],
   "source": [
    "alphas = [0.00001, 0.0001, 0.001, 0.01, 0.1, 0.2, 0.5, 1, 2, 10]\n",
    "res = []\n",
    "for alpha in alphas:\n",
    "    lassoreg = linear_model.Lasso(alpha=alpha)\n",
    "    res.append(fit_and_eval_model(lassoreg, X_train, y_train, X_val, y_val))\n",
    "    "
   ]
  },
  {
   "cell_type": "code",
   "execution_count": 12,
   "metadata": {},
   "outputs": [
    {
     "data": {
      "image/png": "[encoded data removed]",
      "text/plain": [
       "<Figure size 640x480 with 1 Axes>"
      ]
     },
     "metadata": {},
     "output_type": "display_data"
    }
   ],
   "source": [
    "plot_train_val(res, alphas, 'MSE', 'alpha', 'MSE')"
   ]
  },
  {
   "cell_type": "code",
   "execution_count": 13,
   "metadata": {},
   "outputs": [
    {
     "data": {
      "image/png": "[encoded data removed]",
      "text/plain": [
       "<Figure size 640x480 with 1 Axes>"
      ]
     },
     "metadata": {},
     "output_type": "display_data"
    }
   ],
   "source": [
    "plot_train_val(res, alphas, 'score', 'alpha', 'R_squared')"
   ]
  },
  {
   "cell_type": "markdown",
   "metadata": {},
   "source": [
    "Try ridge regression."
   ]
  },
  {
   "cell_type": "code",
   "execution_count": 14,
   "metadata": {},
   "outputs": [],
   "source": [
    "alphas = [0.00001, 0.0001, 0.001, 0.01, 0.1, 0.2, 0.5, 1, 2, 10]\n",
    "res = []\n",
    "for alpha in alphas:\n",
    "    ridgereg = linear_model.Ridge(alpha=alpha)\n",
    "    res.append(fit_and_eval_model(ridgereg, X_train, y_train, X_val, y_val))"
   ]
  },
  {
   "cell_type": "code",
   "execution_count": 15,
   "metadata": {},
   "outputs": [
    {
     "data": {
      "image/png": "[encoded data removed]",
      "text/plain": [
       "<Figure size 640x480 with 1 Axes>"
      ]
     },
     "metadata": {},
     "output_type": "display_data"
    }
   ],
   "source": [
    "plot_train_val(res, alphas, 'MSE', 'alpha', 'MSE')"
   ]
  },
  {
   "cell_type": "code",
   "execution_count": 16,
   "metadata": {},
   "outputs": [
    {
     "data": {
      "image/png": "[encoded data removed]",
      "text/plain": [
       "<Figure size 640x480 with 1 Axes>"
      ]
     },
     "metadata": {},
     "output_type": "display_data"
    }
   ],
   "source": [
    "plot_train_val(res, alphas, 'score', 'alpha', 'R_squared')"
   ]
  },
  {
   "cell_type": "markdown",
   "metadata": {},
   "source": [
    "Get coefficients from best model."
   ]
  },
  {
   "cell_type": "code",
   "execution_count": 17,
   "metadata": {},
   "outputs": [],
   "source": [
    "best = res[8]['model']\n",
    "coef = best.coef_\n",
    "coef_sorted = np.argsort(coef)[::-1]"
   ]
  },
  {
   "cell_type": "code",
   "execution_count": 18,
   "metadata": {},
   "outputs": [
    {
     "data": {
      "text/plain": [
       "[('ZFP42_HUMAN.H11MO.0.A', 0.21258325582477222),\n",
       " ('SMCA1_HUMAN.H11MO.0.C', 0.20146246037802198),\n",
       " ('CEBPE_HUMAN.H11MO.0.A', 0.1835509947435523),\n",
       " ('JUNB_HUMAN.H11MO.0.A', 0.18013319712457646),\n",
       " ('GATA3_HUMAN.H11MO.0.A', 0.1694651692189744),\n",
       " ('STAT6_HUMAN.H11MO.0.B', 0.16039523883224338),\n",
       " ('CEBPG_HUMAN.H11MO.0.B', 0.14990107551480825),\n",
       " ('TFEB_HUMAN.H11MO.0.C', 0.14013399726802558),\n",
       " ('STA5B_HUMAN.H11MO.0.A', 0.13194001327877383),\n",
       " ('ETS2_HUMAN.H11MO.0.B', 0.13127393721961234)]"
      ]
     },
     "execution_count": 18,
     "metadata": {},
     "output_type": "execute_result"
    }
   ],
   "source": [
    "list(zip(motif_scores.columns[coef_sorted], coef[coef_sorted]))[:10]"
   ]
  },
  {
   "cell_type": "code",
   "execution_count": 19,
   "metadata": {},
   "outputs": [
    {
     "data": {
      "image/png": "[encoded data removed]",
      "text/plain": [
       "<Figure size 640x480 with 1 Axes>"
      ]
     },
     "metadata": {},
     "output_type": "display_data"
    }
   ],
   "source": [
    "plt.hist(coef, bins=50)\n",
    "plt.show()"
   ]
  },
  {
   "cell_type": "code",
   "execution_count": 20,
   "metadata": {},
   "outputs": [
    {
     "data": {
      "text/plain": [
       "10705    5.000000e-01\n",
       "6131     5.000000e-01\n",
       "68750    5.000000e-01\n",
       "44389    3.554520e-01\n",
       "2685     2.216730e-01\n",
       "             ...     \n",
       "64684    6.496270e-11\n",
       "56618    6.399570e-11\n",
       "59380    5.754640e-11\n",
       "18166    5.206150e-11\n",
       "57592    4.691310e-11\n",
       "Name: ZFP42_HUMAN.H11MO.0.A, Length: 70059, dtype: float64"
      ]
     },
     "execution_count": 20,
     "metadata": {},
     "output_type": "execute_result"
    }
   ],
   "source": [
    "motif_scores['ZFP42_HUMAN.H11MO.0.A'].sort_values(ascending=False)"
   ]
  },
  {
   "cell_type": "code",
   "execution_count": 21,
   "metadata": {},
   "outputs": [
    {
     "data": {
      "text/plain": [
       "57"
      ]
     },
     "execution_count": 21,
     "metadata": {},
     "output_type": "execute_result"
    }
   ],
   "source": [
    "seq_expression.iloc[10705]['sequence'].find('GCCAT')"
   ]
  },
  {
   "cell_type": "code",
   "execution_count": 22,
   "metadata": {},
   "outputs": [
    {
     "data": {
      "text/plain": [
       "'ATTGGTAAAGAGGATGCACCCAGGTGTATGCTGGCGGTAACGCGGAGGGGAGAGGCAGCCATTTTGGCTTGATTTCCATACATATCATCGAAGGAATACG'"
      ]
     },
     "execution_count": 22,
     "metadata": {},
     "output_type": "execute_result"
    }
   ],
   "source": [
    "seq_expression.iloc[10705]['sequence']"
   ]
  },
  {
   "cell_type": "code",
   "execution_count": 23,
   "metadata": {},
   "outputs": [
    {
     "data": {
      "text/plain": [
       "'CCGTATTTCTCCCGGTTAATGACTCGTGTTCCCTAAAATGGCTGCCGCCTTGGGTCGACAGGAGCGGTTTTGTGACCAGCCTAGAATGCTCTCTGGGCTG'"
      ]
     },
     "execution_count": 23,
     "metadata": {},
     "output_type": "execute_result"
    }
   ],
   "source": [
    "seq_expression.iloc[6131]['sequence']"
   ]
  }
 ],
 "metadata": {
  "kernelspec": {
   "display_name": "starr-seq",
   "language": "python",
   "name": "python3"
  },
  "language_info": {
   "codemirror_mode": {
    "name": "ipython",
    "version": 3
   },
   "file_extension": ".py",
   "mimetype": "text/x-python",
   "name": "python",
   "nbconvert_exporter": "python",
   "pygments_lexer": "ipython3",
   "version": "3.10.4"
  },
  "orig_nbformat": 4
 },
 "nbformat": 4,
 "nbformat_minor": 2
}
