{
 "cells": [
  {
   "cell_type": "code",
   "execution_count": 1,
   "metadata": {},
   "outputs": [],
   "source": [
    "import pandas as pd\n",
    "import matplotlib.pyplot as plt\n",
    "import seaborn as sns\n",
    "import numpy as np\n",
    "import scipy.stats as stats"
   ]
  },
  {
   "cell_type": "markdown",
   "metadata": {},
   "source": [
    "Read in data."
   ]
  },
  {
   "cell_type": "code",
   "execution_count": 2,
   "metadata": {},
   "outputs": [],
   "source": [
    "ori_DNA_rep1 = pd.read_csv('../data/counts_20230704/STARR_DNA_rep1_counts.txt', sep='\\t', names=['sequence', 'count'])\n",
    "ori_DNA_rep2 = pd.read_csv('../data/counts_20230704/STARR_DNA_rep2_counts.txt', sep='\\t', names=['sequence', 'count'])\n",
    "ori_RNA_rep1 = pd.read_csv('../data/counts_20230704/STARR_RNA_rep1_counts.txt', sep='\\t', names=['sequence', 'count', 'collapsed_count'])\n",
    "ori_RNA_rep2 = pd.read_csv('../data/counts_20230704/STARR_RNA_rep2_counts.txt', sep='\\t', names=['sequence', 'count', 'collapsed_count'])"
   ]
  },
  {
   "cell_type": "markdown",
   "metadata": {},
   "source": [
    "Join RNA and DNA on sequences. Only sequences found in all four samples will be retained."
   ]
  },
  {
   "cell_type": "code",
   "execution_count": 3,
   "metadata": {},
   "outputs": [],
   "source": [
    "joined_DNA = ori_DNA_rep1.merge(ori_DNA_rep2, on='sequence', how='inner', suffixes=('_rep1', '_rep2'))\n",
    "joined_RNA = ori_RNA_rep1.merge(ori_RNA_rep2, on='sequence', how='inner', suffixes=('_rep1', '_rep2'))\n",
    "joined_counts = joined_DNA.merge(joined_RNA, on='sequence', how='inner', suffixes=('_DNA', '_RNA'))"
   ]
  },
  {
   "cell_type": "markdown",
   "metadata": {},
   "source": [
    "Calculate normalized DNA counts, then normalize RNA counts by normalized DNA abundance."
   ]
  },
  {
   "cell_type": "code",
   "execution_count": 4,
   "metadata": {},
   "outputs": [
    {
     "data": {
      "text/html": [
       "<div>\n",
       "<style scoped>\n",
       "    .dataframe tbody tr th:only-of-type {\n",
       "        vertical-align: middle;\n",
       "    }\n",
       "\n",
       "    .dataframe tbody tr th {\n",
       "        vertical-align: top;\n",
       "    }\n",
       "\n",
       "    .dataframe thead th {\n",
       "        text-align: right;\n",
       "    }\n",
       "</style>\n",
       "<table border=\"1\" class=\"dataframe\">\n",
       "  <thead>\n",
       "    <tr style=\"text-align: right;\">\n",
       "      <th></th>\n",
       "      <th>sequence</th>\n",
       "      <th>count_rep1_DNA</th>\n",
       "      <th>count_rep2_DNA</th>\n",
       "      <th>count_rep1_RNA</th>\n",
       "      <th>collapsed_count_rep1</th>\n",
       "      <th>count_rep2_RNA</th>\n",
       "      <th>collapsed_count_rep2</th>\n",
       "      <th>cpm_DNA_1</th>\n",
       "      <th>cpm_DNA_2</th>\n",
       "      <th>log10_RNA_rep1_norm</th>\n",
       "      <th>log10_RNA_rep2_norm</th>\n",
       "    </tr>\n",
       "  </thead>\n",
       "  <tbody>\n",
       "    <tr>\n",
       "      <th>0</th>\n",
       "      <td>GGTGTCGTGGTCGGTACAGGACTGTAAGGGTTGCGGTACTTCAGTG...</td>\n",
       "      <td>445</td>\n",
       "      <td>1012</td>\n",
       "      <td>1846</td>\n",
       "      <td>131</td>\n",
       "      <td>1011</td>\n",
       "      <td>82</td>\n",
       "      <td>27.385596</td>\n",
       "      <td>38.554655</td>\n",
       "      <td>0.683052</td>\n",
       "      <td>0.333001</td>\n",
       "    </tr>\n",
       "    <tr>\n",
       "      <th>1</th>\n",
       "      <td>AATGTTTTAGGCCAGTGCCATGGGGTATGAAGTGAGGGGAATTGGG...</td>\n",
       "      <td>424</td>\n",
       "      <td>614</td>\n",
       "      <td>4147</td>\n",
       "      <td>268</td>\n",
       "      <td>1982</td>\n",
       "      <td>167</td>\n",
       "      <td>26.093242</td>\n",
       "      <td>23.391856</td>\n",
       "      <td>1.013224</td>\n",
       "      <td>0.856245</td>\n",
       "    </tr>\n",
       "    <tr>\n",
       "      <th>2</th>\n",
       "      <td>GTGGCACGTGTGTGATGGGGTACATTAGTCACTTGAGGCCTGAAGA...</td>\n",
       "      <td>423</td>\n",
       "      <td>706</td>\n",
       "      <td>536</td>\n",
       "      <td>52</td>\n",
       "      <td>1701</td>\n",
       "      <td>150</td>\n",
       "      <td>26.031702</td>\n",
       "      <td>26.896824</td>\n",
       "      <td>0.308773</td>\n",
       "      <td>0.749276</td>\n",
       "    </tr>\n",
       "    <tr>\n",
       "      <th>3</th>\n",
       "      <td>AGGGGGTGGTACACTGTTTTAAGAAGCCCTGGGCAATTGTCTGACT...</td>\n",
       "      <td>422</td>\n",
       "      <td>791</td>\n",
       "      <td>2502</td>\n",
       "      <td>202</td>\n",
       "      <td>809</td>\n",
       "      <td>79</td>\n",
       "      <td>25.970161</td>\n",
       "      <td>30.135110</td>\n",
       "      <td>0.893021</td>\n",
       "      <td>0.424017</td>\n",
       "    </tr>\n",
       "    <tr>\n",
       "      <th>4</th>\n",
       "      <td>ATGTTCCACAGGATGTGGGTGCTGGGTGGTTCAGTTTGAGGCGATG...</td>\n",
       "      <td>416</td>\n",
       "      <td>822</td>\n",
       "      <td>1671</td>\n",
       "      <td>122</td>\n",
       "      <td>1967</td>\n",
       "      <td>142</td>\n",
       "      <td>25.600917</td>\n",
       "      <td>31.316132</td>\n",
       "      <td>0.681650</td>\n",
       "      <td>0.659568</td>\n",
       "    </tr>\n",
       "  </tbody>\n",
       "</table>\n",
       "</div>"
      ],
      "text/plain": [
       "                                            sequence  count_rep1_DNA  \\\n",
       "0  GGTGTCGTGGTCGGTACAGGACTGTAAGGGTTGCGGTACTTCAGTG...             445   \n",
       "1  AATGTTTTAGGCCAGTGCCATGGGGTATGAAGTGAGGGGAATTGGG...             424   \n",
       "2  GTGGCACGTGTGTGATGGGGTACATTAGTCACTTGAGGCCTGAAGA...             423   \n",
       "3  AGGGGGTGGTACACTGTTTTAAGAAGCCCTGGGCAATTGTCTGACT...             422   \n",
       "4  ATGTTCCACAGGATGTGGGTGCTGGGTGGTTCAGTTTGAGGCGATG...             416   \n",
       "\n",
       "   count_rep2_DNA  count_rep1_RNA  collapsed_count_rep1  count_rep2_RNA  \\\n",
       "0            1012            1846                   131            1011   \n",
       "1             614            4147                   268            1982   \n",
       "2             706             536                    52            1701   \n",
       "3             791            2502                   202             809   \n",
       "4             822            1671                   122            1967   \n",
       "\n",
       "   collapsed_count_rep2  cpm_DNA_1  cpm_DNA_2  log10_RNA_rep1_norm  \\\n",
       "0                    82  27.385596  38.554655             0.683052   \n",
       "1                   167  26.093242  23.391856             1.013224   \n",
       "2                   150  26.031702  26.896824             0.308773   \n",
       "3                    79  25.970161  30.135110             0.893021   \n",
       "4                   142  25.600917  31.316132             0.681650   \n",
       "\n",
       "   log10_RNA_rep2_norm  \n",
       "0             0.333001  \n",
       "1             0.856245  \n",
       "2             0.749276  \n",
       "3             0.424017  \n",
       "4             0.659568  "
      ]
     },
     "execution_count": 4,
     "metadata": {},
     "output_type": "execute_result"
    }
   ],
   "source": [
    "joined_counts['cpm_DNA_1'] = (joined_counts['count_rep1_DNA']/joined_counts['count_rep1_DNA'].sum()) * 1e6\n",
    "joined_counts['cpm_DNA_2'] = (joined_counts['count_rep2_DNA']/joined_counts['count_rep2_DNA'].sum()) * 1e6\n",
    "joined_counts['log10_RNA_rep1_norm'] = np.log10((joined_counts['collapsed_count_rep1'] + 1) / joined_counts['cpm_DNA_1'])\n",
    "joined_counts['log10_RNA_rep2_norm'] = np.log10((joined_counts['collapsed_count_rep2'] + 1) / joined_counts['cpm_DNA_2'])\n",
    "joined_counts.head()"
   ]
  },
  {
   "cell_type": "code",
   "execution_count": 5,
   "metadata": {},
   "outputs": [
    {
     "data": {
      "text/html": [
       "<div>\n",
       "<style scoped>\n",
       "    .dataframe tbody tr th:only-of-type {\n",
       "        vertical-align: middle;\n",
       "    }\n",
       "\n",
       "    .dataframe tbody tr th {\n",
       "        vertical-align: top;\n",
       "    }\n",
       "\n",
       "    .dataframe thead th {\n",
       "        text-align: right;\n",
       "    }\n",
       "</style>\n",
       "<table border=\"1\" class=\"dataframe\">\n",
       "  <thead>\n",
       "    <tr style=\"text-align: right;\">\n",
       "      <th></th>\n",
       "      <th>count_rep1_DNA</th>\n",
       "      <th>count_rep2_DNA</th>\n",
       "      <th>count_rep1_RNA</th>\n",
       "      <th>collapsed_count_rep1</th>\n",
       "      <th>count_rep2_RNA</th>\n",
       "      <th>collapsed_count_rep2</th>\n",
       "      <th>cpm_DNA_1</th>\n",
       "      <th>cpm_DNA_2</th>\n",
       "      <th>log10_RNA_rep1_norm</th>\n",
       "      <th>log10_RNA_rep2_norm</th>\n",
       "    </tr>\n",
       "  </thead>\n",
       "  <tbody>\n",
       "    <tr>\n",
       "      <th>count</th>\n",
       "      <td>358837.000000</td>\n",
       "      <td>358837.000000</td>\n",
       "      <td>358837.000000</td>\n",
       "      <td>358837.000000</td>\n",
       "      <td>358837.000000</td>\n",
       "      <td>358837.000000</td>\n",
       "      <td>358837.000000</td>\n",
       "      <td>358837.000000</td>\n",
       "      <td>358837.000000</td>\n",
       "      <td>358837.000000</td>\n",
       "    </tr>\n",
       "    <tr>\n",
       "      <th>mean</th>\n",
       "      <td>45.283563</td>\n",
       "      <td>73.148678</td>\n",
       "      <td>321.637133</td>\n",
       "      <td>26.572168</td>\n",
       "      <td>308.532632</td>\n",
       "      <td>26.698141</td>\n",
       "      <td>2.786781</td>\n",
       "      <td>2.786781</td>\n",
       "      <td>0.831593</td>\n",
       "      <td>0.926376</td>\n",
       "    </tr>\n",
       "    <tr>\n",
       "      <th>std</th>\n",
       "      <td>29.102870</td>\n",
       "      <td>48.418631</td>\n",
       "      <td>367.016176</td>\n",
       "      <td>27.046461</td>\n",
       "      <td>293.017864</td>\n",
       "      <td>23.188531</td>\n",
       "      <td>1.791010</td>\n",
       "      <td>1.844628</td>\n",
       "      <td>0.550546</td>\n",
       "      <td>0.392673</td>\n",
       "    </tr>\n",
       "    <tr>\n",
       "      <th>min</th>\n",
       "      <td>1.000000</td>\n",
       "      <td>1.000000</td>\n",
       "      <td>1.000000</td>\n",
       "      <td>1.000000</td>\n",
       "      <td>1.000000</td>\n",
       "      <td>1.000000</td>\n",
       "      <td>0.061541</td>\n",
       "      <td>0.038097</td>\n",
       "      <td>-0.936839</td>\n",
       "      <td>-0.890526</td>\n",
       "    </tr>\n",
       "    <tr>\n",
       "      <th>25%</th>\n",
       "      <td>25.000000</td>\n",
       "      <td>40.000000</td>\n",
       "      <td>17.000000</td>\n",
       "      <td>4.000000</td>\n",
       "      <td>113.000000</td>\n",
       "      <td>10.000000</td>\n",
       "      <td>1.538517</td>\n",
       "      <td>1.523899</td>\n",
       "      <td>0.418446</td>\n",
       "      <td>0.705070</td>\n",
       "    </tr>\n",
       "    <tr>\n",
       "      <th>50%</th>\n",
       "      <td>40.000000</td>\n",
       "      <td>63.000000</td>\n",
       "      <td>255.000000</td>\n",
       "      <td>21.000000</td>\n",
       "      <td>235.000000</td>\n",
       "      <td>21.000000</td>\n",
       "      <td>2.461627</td>\n",
       "      <td>2.400142</td>\n",
       "      <td>0.919353</td>\n",
       "      <td>0.969135</td>\n",
       "    </tr>\n",
       "    <tr>\n",
       "      <th>75%</th>\n",
       "      <td>59.000000</td>\n",
       "      <td>94.000000</td>\n",
       "      <td>465.000000</td>\n",
       "      <td>38.000000</td>\n",
       "      <td>431.000000</td>\n",
       "      <td>37.000000</td>\n",
       "      <td>3.630899</td>\n",
       "      <td>3.581164</td>\n",
       "      <td>1.232740</td>\n",
       "      <td>1.188655</td>\n",
       "    </tr>\n",
       "    <tr>\n",
       "      <th>max</th>\n",
       "      <td>445.000000</td>\n",
       "      <td>1012.000000</td>\n",
       "      <td>7680.000000</td>\n",
       "      <td>492.000000</td>\n",
       "      <td>10461.000000</td>\n",
       "      <td>649.000000</td>\n",
       "      <td>27.385596</td>\n",
       "      <td>38.554655</td>\n",
       "      <td>3.321428</td>\n",
       "      <td>3.118074</td>\n",
       "    </tr>\n",
       "  </tbody>\n",
       "</table>\n",
       "</div>"
      ],
      "text/plain": [
       "       count_rep1_DNA  count_rep2_DNA  count_rep1_RNA  collapsed_count_rep1  \\\n",
       "count   358837.000000   358837.000000   358837.000000         358837.000000   \n",
       "mean        45.283563       73.148678      321.637133             26.572168   \n",
       "std         29.102870       48.418631      367.016176             27.046461   \n",
       "min          1.000000        1.000000        1.000000              1.000000   \n",
       "25%         25.000000       40.000000       17.000000              4.000000   \n",
       "50%         40.000000       63.000000      255.000000             21.000000   \n",
       "75%         59.000000       94.000000      465.000000             38.000000   \n",
       "max        445.000000     1012.000000     7680.000000            492.000000   \n",
       "\n",
       "       count_rep2_RNA  collapsed_count_rep2      cpm_DNA_1      cpm_DNA_2  \\\n",
       "count   358837.000000         358837.000000  358837.000000  358837.000000   \n",
       "mean       308.532632             26.698141       2.786781       2.786781   \n",
       "std        293.017864             23.188531       1.791010       1.844628   \n",
       "min          1.000000              1.000000       0.061541       0.038097   \n",
       "25%        113.000000             10.000000       1.538517       1.523899   \n",
       "50%        235.000000             21.000000       2.461627       2.400142   \n",
       "75%        431.000000             37.000000       3.630899       3.581164   \n",
       "max      10461.000000            649.000000      27.385596      38.554655   \n",
       "\n",
       "       log10_RNA_rep1_norm  log10_RNA_rep2_norm  \n",
       "count        358837.000000        358837.000000  \n",
       "mean              0.831593             0.926376  \n",
       "std               0.550546             0.392673  \n",
       "min              -0.936839            -0.890526  \n",
       "25%               0.418446             0.705070  \n",
       "50%               0.919353             0.969135  \n",
       "75%               1.232740             1.188655  \n",
       "max               3.321428             3.118074  "
      ]
     },
     "execution_count": 5,
     "metadata": {},
     "output_type": "execute_result"
    }
   ],
   "source": [
    "joined_counts.describe()"
   ]
  },
  {
   "cell_type": "code",
   "execution_count": 6,
   "metadata": {},
   "outputs": [],
   "source": [
    "joined_counts['length'] = joined_counts['sequence'].str.len()"
   ]
  },
  {
   "cell_type": "markdown",
   "metadata": {},
   "source": [
    "Filter out sequences with low RNA counts."
   ]
  },
  {
   "cell_type": "code",
   "execution_count": 7,
   "metadata": {},
   "outputs": [
    {
     "data": {
      "text/plain": [
       "94790"
      ]
     },
     "execution_count": 7,
     "metadata": {},
     "output_type": "execute_result"
    }
   ],
   "source": [
    "RNA_threshold = 20\n",
    "DNA_threshold = 20\n",
    "joined_counts_filtered = joined_counts.loc[(joined_counts['collapsed_count_rep1'] > RNA_threshold)\n",
    "                                   & (joined_counts['collapsed_count_rep2'] > RNA_threshold)\n",
    "                                   & (joined_counts['count_rep1_DNA'] > DNA_threshold)\n",
    "                                   & (joined_counts['count_rep2_DNA'] > DNA_threshold)]\n",
    "len(joined_counts_filtered)"
   ]
  },
  {
   "cell_type": "code",
   "execution_count": 8,
   "metadata": {},
   "outputs": [
    {
     "data": {
      "text/plain": [
       "<seaborn.axisgrid.JointGrid at 0x237b799b790>"
      ]
     },
     "execution_count": 8,
     "metadata": {},
     "output_type": "execute_result"
    },
    {
     "data": {
      "image/png": "[encoded data removed]",
      "text/plain": [
       "<Figure size 600x600 with 3 Axes>"
      ]
     },
     "metadata": {},
     "output_type": "display_data"
    }
   ],
   "source": [
    "sns.jointplot(data=joined_counts_filtered, x='log10_RNA_rep1_norm', y='log10_RNA_rep2_norm', linewidth=0, alpha=0.7)"
   ]
  },
  {
   "cell_type": "markdown",
   "metadata": {},
   "source": [
    "Look at correlation with and without DNA normalization."
   ]
  },
  {
   "cell_type": "markdown",
   "metadata": {},
   "source": [
    "With DNA normalization:"
   ]
  },
  {
   "cell_type": "code",
   "execution_count": 9,
   "metadata": {},
   "outputs": [
    {
     "data": {
      "text/plain": [
       "PearsonRResult(statistic=0.3914868874426565, pvalue=0.0)"
      ]
     },
     "execution_count": 9,
     "metadata": {},
     "output_type": "execute_result"
    }
   ],
   "source": [
    "stats.pearsonr(joined_counts_filtered['log10_RNA_rep1_norm'], joined_counts_filtered['log10_RNA_rep2_norm'])"
   ]
  },
  {
   "cell_type": "markdown",
   "metadata": {},
   "source": [
    "Without DNA normalization:"
   ]
  },
  {
   "cell_type": "code",
   "execution_count": 10,
   "metadata": {},
   "outputs": [
    {
     "data": {
      "text/plain": [
       "PearsonRResult(statistic=0.2295591433356925, pvalue=0.0)"
      ]
     },
     "execution_count": 10,
     "metadata": {},
     "output_type": "execute_result"
    }
   ],
   "source": [
    "stats.pearsonr(np.log10(joined_counts_filtered['collapsed_count_rep1']), np.log10(joined_counts_filtered['collapsed_count_rep2']))"
   ]
  },
  {
   "cell_type": "markdown",
   "metadata": {},
   "source": [
    "Filter for just 100 bp length sequences."
   ]
  },
  {
   "cell_type": "code",
   "execution_count": 11,
   "metadata": {},
   "outputs": [
    {
     "data": {
      "text/plain": [
       "70059"
      ]
     },
     "execution_count": 11,
     "metadata": {},
     "output_type": "execute_result"
    }
   ],
   "source": [
    "joined_counts_filtered_100bp = joined_counts_filtered[joined_counts_filtered['length'] == 100].reset_index(drop=True)\n",
    "len(joined_counts_filtered_100bp)"
   ]
  },
  {
   "cell_type": "markdown",
   "metadata": {},
   "source": [
    "Save filtered sequences and expression values."
   ]
  },
  {
   "cell_type": "code",
   "execution_count": 12,
   "metadata": {},
   "outputs": [],
   "source": [
    "rep1_df = joined_counts_filtered_100bp[['sequence', 'log10_RNA_rep1_norm']]\n",
    "rep2_df = joined_counts_filtered_100bp[['sequence', 'log10_RNA_rep2_norm']]\n",
    "rep1_df.to_csv(\"../data/linear_models_20230815/rep1_expression_DNA_20_RNA_20_20230815.csv\")\n",
    "rep2_df.to_csv(\"../data/linear_models_20230815/rep2_expression_DNA_20_RNA_20_20230815.csv\")"
   ]
  },
  {
   "cell_type": "markdown",
   "metadata": {},
   "source": [
    "Save sequences to fasta file."
   ]
  },
  {
   "cell_type": "code",
   "execution_count": 13,
   "metadata": {},
   "outputs": [],
   "source": [
    "def save_to_fasta(df, f):\n",
    "    for i, row in df.iterrows():\n",
    "        f.write(f\">{i}\\n{row['sequence']}\\n\")\n",
    "\n",
    "with open(\"../data/linear_models_20230815/rep1_seqs_DNA_20_RNA_20_20230815.fasta\", 'wt') as f:\n",
    "    save_to_fasta(rep1_df, f)\n",
    "with open(\"../data/linear_models_20230815/rep2_seqs_DNA_20_RNA_20_20230815.fasta\", 'wt') as f:\n",
    "    save_to_fasta(rep2_df, f)"
   ]
  },
  {
   "cell_type": "markdown",
   "metadata": {},
   "source": [
    "Save sequences to tab separated text file."
   ]
  },
  {
   "cell_type": "code",
   "execution_count": 14,
   "metadata": {},
   "outputs": [],
   "source": [
    "rep1_df_seq_only = joined_counts_filtered_100bp[['sequence']]\n",
    "rep2_df_seq_only = joined_counts_filtered_100bp[['sequence']]\n",
    "rep1_df_seq_only.to_csv(\"../data/linear_models_20230815/rep1_seqs_DNA_20_RNA_20_20230815.txt\", sep='\\t', header=False)\n",
    "rep2_df_seq_only.to_csv(\"../data/linear_models_20230815/rep2_seqs_DNA_20_RNA_20_20230815.txt\", sep='\\t', header=False)"
   ]
  }
 ],
 "metadata": {
  "kernelspec": {
   "display_name": "starr-seq",
   "language": "python",
   "name": "python3"
  },
  "language_info": {
   "codemirror_mode": {
    "name": "ipython",
    "version": 3
   },
   "file_extension": ".py",
   "mimetype": "text/x-python",
   "name": "python",
   "nbconvert_exporter": "python",
   "pygments_lexer": "ipython3",
   "version": "3.10.4"
  },
  "orig_nbformat": 4
 },
 "nbformat": 4,
 "nbformat_minor": 2
}
