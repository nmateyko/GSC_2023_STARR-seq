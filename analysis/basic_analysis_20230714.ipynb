{
 "cells": [
  {
   "cell_type": "code",
   "execution_count": 1,
   "metadata": {},
   "outputs": [],
   "source": [
    "import pandas as pd\n",
    "import matplotlib.pyplot as plt\n",
    "import seaborn as sns\n",
    "import numpy as np\n",
    "import scipy.stats as stats"
   ]
  },
  {
   "cell_type": "code",
   "execution_count": 2,
   "metadata": {},
   "outputs": [],
   "source": [
    "Sasaki_DNA_rep1 = pd.read_csv('counts_20230704/Sahu_DNA_rep1_counts.txt', sep='\\t', names=['sequence', 'count'])\n",
    "Sasaki_DNA_rep2 = pd.read_csv('counts_20230704/Sahu_DNA_rep2_counts.txt', sep='\\t', names=['sequence', 'count'])\n",
    "Sasaki_RNA_rep1 = pd.read_csv('counts_20230704/Sahu_RNA_rep1_counts.txt', sep='\\t', names=['sequence', 'count', 'collapsed_count'])\n",
    "Sasaki_RNA_rep2 = pd.read_csv('counts_20230704/Sahu_RNA_rep2_counts.txt', sep='\\t', names=['sequence', 'count', 'collapsed_count'])\n",
    "ori_DNA_rep1 = pd.read_csv('counts_20230704/STARR_DNA_rep1_counts.txt', sep='\\t', names=['sequence', 'count'])\n",
    "ori_DNA_rep2 = pd.read_csv('counts_20230704/STARR_DNA_rep2_counts.txt', sep='\\t', names=['sequence', 'count'])\n",
    "ori_RNA_rep1 = pd.read_csv('counts_20230704/STARR_RNA_rep1_counts.txt', sep='\\t', names=['sequence', 'count', 'collapsed_count'])\n",
    "ori_RNA_rep2 = pd.read_csv('counts_20230704/STARR_RNA_rep2_counts.txt', sep='\\t', names=['sequence', 'count', 'collapsed_count'])\n",
    "\n",
    "samples = {'Sasaki_DNA_rep1': Sasaki_DNA_rep1, 'Sasaki_DNA_rep2': Sasaki_DNA_rep2, 'ori_DNA_rep1': ori_DNA_rep1, 'ori_DNA_rep2': Sasaki_DNA_rep2, 'Sasaki_RNA_rep1': Sasaki_RNA_rep1, 'Sasaki_RNA_rep2': Sasaki_RNA_rep2, 'ori_RNA_rep1': ori_RNA_rep1, 'ori_RNA_rep2': ori_RNA_rep2}\n",
    "counts = pd.concat(samples, names=['sample'])\n",
    "counts = counts.reset_index(level=0)"
   ]
  },
  {
   "cell_type": "markdown",
   "metadata": {},
   "source": [
    "Look at stats for all samples."
   ]
  },
  {
   "cell_type": "code",
   "execution_count": 3,
   "metadata": {},
   "outputs": [
    {
     "data": {
      "text/html": [
       "<div>\n",
       "<style scoped>\n",
       "    .dataframe tbody tr th:only-of-type {\n",
       "        vertical-align: middle;\n",
       "    }\n",
       "\n",
       "    .dataframe tbody tr th {\n",
       "        vertical-align: top;\n",
       "    }\n",
       "\n",
       "    .dataframe thead tr th {\n",
       "        text-align: left;\n",
       "    }\n",
       "\n",
       "    .dataframe thead tr:last-of-type th {\n",
       "        text-align: right;\n",
       "    }\n",
       "</style>\n",
       "<table border=\"1\" class=\"dataframe\">\n",
       "  <thead>\n",
       "    <tr>\n",
       "      <th></th>\n",
       "      <th colspan=\"8\" halign=\"left\">count</th>\n",
       "      <th colspan=\"8\" halign=\"left\">collapsed_count</th>\n",
       "    </tr>\n",
       "    <tr>\n",
       "      <th></th>\n",
       "      <th>count</th>\n",
       "      <th>mean</th>\n",
       "      <th>std</th>\n",
       "      <th>min</th>\n",
       "      <th>25%</th>\n",
       "      <th>50%</th>\n",
       "      <th>75%</th>\n",
       "      <th>max</th>\n",
       "      <th>count</th>\n",
       "      <th>mean</th>\n",
       "      <th>std</th>\n",
       "      <th>min</th>\n",
       "      <th>25%</th>\n",
       "      <th>50%</th>\n",
       "      <th>75%</th>\n",
       "      <th>max</th>\n",
       "    </tr>\n",
       "    <tr>\n",
       "      <th>sample</th>\n",
       "      <th></th>\n",
       "      <th></th>\n",
       "      <th></th>\n",
       "      <th></th>\n",
       "      <th></th>\n",
       "      <th></th>\n",
       "      <th></th>\n",
       "      <th></th>\n",
       "      <th></th>\n",
       "      <th></th>\n",
       "      <th></th>\n",
       "      <th></th>\n",
       "      <th></th>\n",
       "      <th></th>\n",
       "      <th></th>\n",
       "      <th></th>\n",
       "    </tr>\n",
       "  </thead>\n",
       "  <tbody>\n",
       "    <tr>\n",
       "      <th>Sasaki_DNA_rep1</th>\n",
       "      <td>819321.0</td>\n",
       "      <td>23.653578</td>\n",
       "      <td>20.668612</td>\n",
       "      <td>0.0</td>\n",
       "      <td>9.0</td>\n",
       "      <td>19.0</td>\n",
       "      <td>33.0</td>\n",
       "      <td>424.0</td>\n",
       "      <td>0.0</td>\n",
       "      <td>NaN</td>\n",
       "      <td>NaN</td>\n",
       "      <td>NaN</td>\n",
       "      <td>NaN</td>\n",
       "      <td>NaN</td>\n",
       "      <td>NaN</td>\n",
       "      <td>NaN</td>\n",
       "    </tr>\n",
       "    <tr>\n",
       "      <th>Sasaki_DNA_rep2</th>\n",
       "      <td>823743.0</td>\n",
       "      <td>26.155507</td>\n",
       "      <td>22.974827</td>\n",
       "      <td>0.0</td>\n",
       "      <td>10.0</td>\n",
       "      <td>21.0</td>\n",
       "      <td>36.0</td>\n",
       "      <td>496.0</td>\n",
       "      <td>0.0</td>\n",
       "      <td>NaN</td>\n",
       "      <td>NaN</td>\n",
       "      <td>NaN</td>\n",
       "      <td>NaN</td>\n",
       "      <td>NaN</td>\n",
       "      <td>NaN</td>\n",
       "      <td>NaN</td>\n",
       "    </tr>\n",
       "    <tr>\n",
       "      <th>Sasaki_RNA_rep1</th>\n",
       "      <td>40865.0</td>\n",
       "      <td>2038.296293</td>\n",
       "      <td>70123.308142</td>\n",
       "      <td>1.0</td>\n",
       "      <td>1.0</td>\n",
       "      <td>1.0</td>\n",
       "      <td>1.0</td>\n",
       "      <td>6652075.0</td>\n",
       "      <td>40865.0</td>\n",
       "      <td>10.148807</td>\n",
       "      <td>141.656071</td>\n",
       "      <td>1.0</td>\n",
       "      <td>1.0</td>\n",
       "      <td>1.0</td>\n",
       "      <td>1.0</td>\n",
       "      <td>4112.0</td>\n",
       "    </tr>\n",
       "    <tr>\n",
       "      <th>Sasaki_RNA_rep2</th>\n",
       "      <td>53108.0</td>\n",
       "      <td>1750.256327</td>\n",
       "      <td>64209.529029</td>\n",
       "      <td>1.0</td>\n",
       "      <td>1.0</td>\n",
       "      <td>1.0</td>\n",
       "      <td>1.0</td>\n",
       "      <td>3932973.0</td>\n",
       "      <td>53108.0</td>\n",
       "      <td>6.753502</td>\n",
       "      <td>109.089073</td>\n",
       "      <td>1.0</td>\n",
       "      <td>1.0</td>\n",
       "      <td>1.0</td>\n",
       "      <td>1.0</td>\n",
       "      <td>3861.0</td>\n",
       "    </tr>\n",
       "    <tr>\n",
       "      <th>ori_DNA_rep1</th>\n",
       "      <td>839776.0</td>\n",
       "      <td>30.587678</td>\n",
       "      <td>26.926581</td>\n",
       "      <td>0.0</td>\n",
       "      <td>11.0</td>\n",
       "      <td>25.0</td>\n",
       "      <td>43.0</td>\n",
       "      <td>445.0</td>\n",
       "      <td>0.0</td>\n",
       "      <td>NaN</td>\n",
       "      <td>NaN</td>\n",
       "      <td>NaN</td>\n",
       "      <td>NaN</td>\n",
       "      <td>NaN</td>\n",
       "      <td>NaN</td>\n",
       "      <td>NaN</td>\n",
       "    </tr>\n",
       "    <tr>\n",
       "      <th>ori_DNA_rep2</th>\n",
       "      <td>823743.0</td>\n",
       "      <td>26.155507</td>\n",
       "      <td>22.974827</td>\n",
       "      <td>0.0</td>\n",
       "      <td>10.0</td>\n",
       "      <td>21.0</td>\n",
       "      <td>36.0</td>\n",
       "      <td>496.0</td>\n",
       "      <td>0.0</td>\n",
       "      <td>NaN</td>\n",
       "      <td>NaN</td>\n",
       "      <td>NaN</td>\n",
       "      <td>NaN</td>\n",
       "      <td>NaN</td>\n",
       "      <td>NaN</td>\n",
       "      <td>NaN</td>\n",
       "    </tr>\n",
       "    <tr>\n",
       "      <th>ori_RNA_rep1</th>\n",
       "      <td>459634.0</td>\n",
       "      <td>275.670588</td>\n",
       "      <td>348.737412</td>\n",
       "      <td>1.0</td>\n",
       "      <td>3.0</td>\n",
       "      <td>158.0</td>\n",
       "      <td>417.0</td>\n",
       "      <td>7680.0</td>\n",
       "      <td>459634.0</td>\n",
       "      <td>22.953850</td>\n",
       "      <td>25.867260</td>\n",
       "      <td>1.0</td>\n",
       "      <td>2.0</td>\n",
       "      <td>16.0</td>\n",
       "      <td>34.0</td>\n",
       "      <td>492.0</td>\n",
       "    </tr>\n",
       "    <tr>\n",
       "      <th>ori_RNA_rep2</th>\n",
       "      <td>652092.0</td>\n",
       "      <td>233.932499</td>\n",
       "      <td>259.752499</td>\n",
       "      <td>1.0</td>\n",
       "      <td>34.0</td>\n",
       "      <td>162.0</td>\n",
       "      <td>334.0</td>\n",
       "      <td>10461.0</td>\n",
       "      <td>652092.0</td>\n",
       "      <td>20.444181</td>\n",
       "      <td>20.723276</td>\n",
       "      <td>1.0</td>\n",
       "      <td>5.0</td>\n",
       "      <td>15.0</td>\n",
       "      <td>29.0</td>\n",
       "      <td>649.0</td>\n",
       "    </tr>\n",
       "  </tbody>\n",
       "</table>\n",
       "</div>"
      ],
      "text/plain": [
       "                    count                                                      \\\n",
       "                    count         mean           std  min   25%    50%    75%   \n",
       "sample                                                                          \n",
       "Sasaki_DNA_rep1  819321.0    23.653578     20.668612  0.0   9.0   19.0   33.0   \n",
       "Sasaki_DNA_rep2  823743.0    26.155507     22.974827  0.0  10.0   21.0   36.0   \n",
       "Sasaki_RNA_rep1   40865.0  2038.296293  70123.308142  1.0   1.0    1.0    1.0   \n",
       "Sasaki_RNA_rep2   53108.0  1750.256327  64209.529029  1.0   1.0    1.0    1.0   \n",
       "ori_DNA_rep1     839776.0    30.587678     26.926581  0.0  11.0   25.0   43.0   \n",
       "ori_DNA_rep2     823743.0    26.155507     22.974827  0.0  10.0   21.0   36.0   \n",
       "ori_RNA_rep1     459634.0   275.670588    348.737412  1.0   3.0  158.0  417.0   \n",
       "ori_RNA_rep2     652092.0   233.932499    259.752499  1.0  34.0  162.0  334.0   \n",
       "\n",
       "                           collapsed_count                                   \\\n",
       "                       max           count       mean         std  min  25%   \n",
       "sample                                                                        \n",
       "Sasaki_DNA_rep1      424.0             0.0        NaN         NaN  NaN  NaN   \n",
       "Sasaki_DNA_rep2      496.0             0.0        NaN         NaN  NaN  NaN   \n",
       "Sasaki_RNA_rep1  6652075.0         40865.0  10.148807  141.656071  1.0  1.0   \n",
       "Sasaki_RNA_rep2  3932973.0         53108.0   6.753502  109.089073  1.0  1.0   \n",
       "ori_DNA_rep1         445.0             0.0        NaN         NaN  NaN  NaN   \n",
       "ori_DNA_rep2         496.0             0.0        NaN         NaN  NaN  NaN   \n",
       "ori_RNA_rep1        7680.0        459634.0  22.953850   25.867260  1.0  2.0   \n",
       "ori_RNA_rep2       10461.0        652092.0  20.444181   20.723276  1.0  5.0   \n",
       "\n",
       "                                     \n",
       "                  50%   75%     max  \n",
       "sample                               \n",
       "Sasaki_DNA_rep1   NaN   NaN     NaN  \n",
       "Sasaki_DNA_rep2   NaN   NaN     NaN  \n",
       "Sasaki_RNA_rep1   1.0   1.0  4112.0  \n",
       "Sasaki_RNA_rep2   1.0   1.0  3861.0  \n",
       "ori_DNA_rep1      NaN   NaN     NaN  \n",
       "ori_DNA_rep2      NaN   NaN     NaN  \n",
       "ori_RNA_rep1     16.0  34.0   492.0  \n",
       "ori_RNA_rep2     15.0  29.0   649.0  "
      ]
     },
     "execution_count": 3,
     "metadata": {},
     "output_type": "execute_result"
    }
   ],
   "source": [
    "counts.groupby('sample').describe()"
   ]
  },
  {
   "cell_type": "code",
   "execution_count": 4,
   "metadata": {},
   "outputs": [
    {
     "data": {
      "text/html": [
       "<div>\n",
       "<style scoped>\n",
       "    .dataframe tbody tr th:only-of-type {\n",
       "        vertical-align: middle;\n",
       "    }\n",
       "\n",
       "    .dataframe tbody tr th {\n",
       "        vertical-align: top;\n",
       "    }\n",
       "\n",
       "    .dataframe thead th {\n",
       "        text-align: right;\n",
       "    }\n",
       "</style>\n",
       "<table border=\"1\" class=\"dataframe\">\n",
       "  <thead>\n",
       "    <tr style=\"text-align: right;\">\n",
       "      <th></th>\n",
       "      <th>count</th>\n",
       "      <th>collapsed_count</th>\n",
       "    </tr>\n",
       "    <tr>\n",
       "      <th>sample</th>\n",
       "      <th></th>\n",
       "      <th></th>\n",
       "    </tr>\n",
       "  </thead>\n",
       "  <tbody>\n",
       "    <tr>\n",
       "      <th>Sasaki_DNA_rep1</th>\n",
       "      <td>19.0</td>\n",
       "      <td>NaN</td>\n",
       "    </tr>\n",
       "    <tr>\n",
       "      <th>Sasaki_DNA_rep2</th>\n",
       "      <td>21.0</td>\n",
       "      <td>NaN</td>\n",
       "    </tr>\n",
       "    <tr>\n",
       "      <th>Sasaki_RNA_rep1</th>\n",
       "      <td>1.0</td>\n",
       "      <td>1.0</td>\n",
       "    </tr>\n",
       "    <tr>\n",
       "      <th>Sasaki_RNA_rep2</th>\n",
       "      <td>1.0</td>\n",
       "      <td>1.0</td>\n",
       "    </tr>\n",
       "    <tr>\n",
       "      <th>ori_DNA_rep1</th>\n",
       "      <td>25.0</td>\n",
       "      <td>NaN</td>\n",
       "    </tr>\n",
       "    <tr>\n",
       "      <th>ori_DNA_rep2</th>\n",
       "      <td>21.0</td>\n",
       "      <td>NaN</td>\n",
       "    </tr>\n",
       "    <tr>\n",
       "      <th>ori_RNA_rep1</th>\n",
       "      <td>158.0</td>\n",
       "      <td>16.0</td>\n",
       "    </tr>\n",
       "    <tr>\n",
       "      <th>ori_RNA_rep2</th>\n",
       "      <td>162.0</td>\n",
       "      <td>15.0</td>\n",
       "    </tr>\n",
       "  </tbody>\n",
       "</table>\n",
       "</div>"
      ],
      "text/plain": [
       "                 count  collapsed_count\n",
       "sample                                 \n",
       "Sasaki_DNA_rep1   19.0              NaN\n",
       "Sasaki_DNA_rep2   21.0              NaN\n",
       "Sasaki_RNA_rep1    1.0              1.0\n",
       "Sasaki_RNA_rep2    1.0              1.0\n",
       "ori_DNA_rep1      25.0              NaN\n",
       "ori_DNA_rep2      21.0              NaN\n",
       "ori_RNA_rep1     158.0             16.0\n",
       "ori_RNA_rep2     162.0             15.0"
      ]
     },
     "execution_count": 4,
     "metadata": {},
     "output_type": "execute_result"
    }
   ],
   "source": [
    "counts.groupby('sample').median()"
   ]
  },
  {
   "cell_type": "markdown",
   "metadata": {},
   "source": [
    "Look at distribution of read counts."
   ]
  },
  {
   "cell_type": "code",
   "execution_count": 5,
   "metadata": {},
   "outputs": [
    {
     "data": {
      "text/plain": [
       "<seaborn.axisgrid.FacetGrid at 0x26f865dd1e0>"
      ]
     },
     "execution_count": 5,
     "metadata": {},
     "output_type": "execute_result"
    },
    {
     "data": {
      "image/png": "[encoded data removed]",
      "text/plain": [
       "<Figure size 864x432 with 8 Axes>"
      ]
     },
     "metadata": {
      "needs_background": "light"
     },
     "output_type": "display_data"
    }
   ],
   "source": [
    "g = sns.FacetGrid(data=counts, col='sample', sharex=False, sharey=False, col_wrap=4)\n",
    "g.map(sns.histplot, 'count', binrange=[0, 100], binwidth=1)"
   ]
  },
  {
   "cell_type": "markdown",
   "metadata": {},
   "source": [
    "Collapsed counts."
   ]
  },
  {
   "cell_type": "code",
   "execution_count": 6,
   "metadata": {},
   "outputs": [
    {
     "data": {
      "text/plain": [
       "<seaborn.axisgrid.FacetGrid at 0x26f865dd630>"
      ]
     },
     "execution_count": 6,
     "metadata": {},
     "output_type": "execute_result"
    },
    {
     "data": {
      "image/png": "[encoded data removed]",
      "text/plain": [
       "<Figure size 864x216 with 4 Axes>"
      ]
     },
     "metadata": {
      "needs_background": "light"
     },
     "output_type": "display_data"
    }
   ],
   "source": [
    "g = sns.FacetGrid(data=counts, col='sample', sharex=False, sharey=False, col_order=['Sasaki_RNA_rep1', 'Sasaki_RNA_rep2', 'ori_RNA_rep1', 'ori_RNA_rep2'])\n",
    "g.map(sns.histplot, 'count', binrange=[0, 50], binwidth=1)"
   ]
  },
  {
   "cell_type": "markdown",
   "metadata": {},
   "source": [
    "Look at number of sequences in common between replicates."
   ]
  },
  {
   "cell_type": "code",
   "execution_count": 7,
   "metadata": {},
   "outputs": [],
   "source": [
    "Sasaki_DNA_joined = Sasaki_DNA_rep1.merge(Sasaki_DNA_rep2, on='sequence', how='inner', suffixes=('_rep1', '_rep2'))\n",
    "Sasaki_RNA_joined = Sasaki_RNA_rep1.merge(Sasaki_RNA_rep2, on='sequence', how='inner', suffixes=('_rep1', '_rep2'))\n",
    "ori_DNA_joined = ori_DNA_rep1.merge(ori_DNA_rep2, on='sequence', how='inner', suffixes=('_rep1', '_rep2'))\n",
    "ori_RNA_joined = ori_RNA_rep1.merge(ori_RNA_rep2, on='sequence', how='inner', suffixes=('_rep1', '_rep2'))\n",
    "samples = {'Sasaki_DNA': Sasaki_DNA_joined, 'Sasaki_RNA': Sasaki_RNA_joined, 'ori_DNA': ori_DNA_joined, 'ori_RNA': ori_RNA_joined}\n",
    "joined_counts = pd.concat(samples, names=['sample'])\n",
    "joined_counts = joined_counts.reset_index(level=0)"
   ]
  },
  {
   "cell_type": "code",
   "execution_count": 8,
   "metadata": {},
   "outputs": [
    {
     "data": {
      "text/html": [
       "<div>\n",
       "<style scoped>\n",
       "    .dataframe tbody tr th:only-of-type {\n",
       "        vertical-align: middle;\n",
       "    }\n",
       "\n",
       "    .dataframe tbody tr th {\n",
       "        vertical-align: top;\n",
       "    }\n",
       "\n",
       "    .dataframe thead tr th {\n",
       "        text-align: left;\n",
       "    }\n",
       "\n",
       "    .dataframe thead tr:last-of-type th {\n",
       "        text-align: right;\n",
       "    }\n",
       "</style>\n",
       "<table border=\"1\" class=\"dataframe\">\n",
       "  <thead>\n",
       "    <tr>\n",
       "      <th></th>\n",
       "      <th colspan=\"8\" halign=\"left\">count_rep1</th>\n",
       "      <th colspan=\"2\" halign=\"left\">count_rep2</th>\n",
       "      <th>...</th>\n",
       "      <th colspan=\"2\" halign=\"left\">collapsed_count_rep1</th>\n",
       "      <th colspan=\"8\" halign=\"left\">collapsed_count_rep2</th>\n",
       "    </tr>\n",
       "    <tr>\n",
       "      <th></th>\n",
       "      <th>count</th>\n",
       "      <th>mean</th>\n",
       "      <th>std</th>\n",
       "      <th>min</th>\n",
       "      <th>25%</th>\n",
       "      <th>50%</th>\n",
       "      <th>75%</th>\n",
       "      <th>max</th>\n",
       "      <th>count</th>\n",
       "      <th>mean</th>\n",
       "      <th>...</th>\n",
       "      <th>75%</th>\n",
       "      <th>max</th>\n",
       "      <th>count</th>\n",
       "      <th>mean</th>\n",
       "      <th>std</th>\n",
       "      <th>min</th>\n",
       "      <th>25%</th>\n",
       "      <th>50%</th>\n",
       "      <th>75%</th>\n",
       "      <th>max</th>\n",
       "    </tr>\n",
       "    <tr>\n",
       "      <th>sample</th>\n",
       "      <th></th>\n",
       "      <th></th>\n",
       "      <th></th>\n",
       "      <th></th>\n",
       "      <th></th>\n",
       "      <th></th>\n",
       "      <th></th>\n",
       "      <th></th>\n",
       "      <th></th>\n",
       "      <th></th>\n",
       "      <th></th>\n",
       "      <th></th>\n",
       "      <th></th>\n",
       "      <th></th>\n",
       "      <th></th>\n",
       "      <th></th>\n",
       "      <th></th>\n",
       "      <th></th>\n",
       "      <th></th>\n",
       "      <th></th>\n",
       "      <th></th>\n",
       "    </tr>\n",
       "  </thead>\n",
       "  <tbody>\n",
       "    <tr>\n",
       "      <th>Sasaki_DNA</th>\n",
       "      <td>770897.0</td>\n",
       "      <td>25.046151</td>\n",
       "      <td>20.517093</td>\n",
       "      <td>1.0</td>\n",
       "      <td>10.0</td>\n",
       "      <td>20.0</td>\n",
       "      <td>34.0</td>\n",
       "      <td>424.0</td>\n",
       "      <td>770897.0</td>\n",
       "      <td>27.840316</td>\n",
       "      <td>...</td>\n",
       "      <td>NaN</td>\n",
       "      <td>NaN</td>\n",
       "      <td>0.0</td>\n",
       "      <td>NaN</td>\n",
       "      <td>NaN</td>\n",
       "      <td>NaN</td>\n",
       "      <td>NaN</td>\n",
       "      <td>NaN</td>\n",
       "      <td>NaN</td>\n",
       "      <td>NaN</td>\n",
       "    </tr>\n",
       "    <tr>\n",
       "      <th>Sasaki_RNA</th>\n",
       "      <td>4240.0</td>\n",
       "      <td>19467.296226</td>\n",
       "      <td>216936.239338</td>\n",
       "      <td>1.0</td>\n",
       "      <td>1.0</td>\n",
       "      <td>1.0</td>\n",
       "      <td>1.0</td>\n",
       "      <td>6652075.0</td>\n",
       "      <td>4240.0</td>\n",
       "      <td>21760.177358</td>\n",
       "      <td>...</td>\n",
       "      <td>1.0</td>\n",
       "      <td>4112.0</td>\n",
       "      <td>4240.0</td>\n",
       "      <td>67.061085</td>\n",
       "      <td>378.256494</td>\n",
       "      <td>1.0</td>\n",
       "      <td>1.0</td>\n",
       "      <td>1.0</td>\n",
       "      <td>1.0</td>\n",
       "      <td>3861.0</td>\n",
       "    </tr>\n",
       "    <tr>\n",
       "      <th>ori_DNA</th>\n",
       "      <td>780868.0</td>\n",
       "      <td>32.793997</td>\n",
       "      <td>26.645801</td>\n",
       "      <td>1.0</td>\n",
       "      <td>13.0</td>\n",
       "      <td>27.0</td>\n",
       "      <td>45.0</td>\n",
       "      <td>445.0</td>\n",
       "      <td>780868.0</td>\n",
       "      <td>52.791426</td>\n",
       "      <td>...</td>\n",
       "      <td>NaN</td>\n",
       "      <td>NaN</td>\n",
       "      <td>0.0</td>\n",
       "      <td>NaN</td>\n",
       "      <td>NaN</td>\n",
       "      <td>NaN</td>\n",
       "      <td>NaN</td>\n",
       "      <td>NaN</td>\n",
       "      <td>NaN</td>\n",
       "      <td>NaN</td>\n",
       "    </tr>\n",
       "    <tr>\n",
       "      <th>ori_RNA</th>\n",
       "      <td>361503.0</td>\n",
       "      <td>320.079806</td>\n",
       "      <td>366.562079</td>\n",
       "      <td>1.0</td>\n",
       "      <td>16.0</td>\n",
       "      <td>253.0</td>\n",
       "      <td>463.0</td>\n",
       "      <td>7680.0</td>\n",
       "      <td>361503.0</td>\n",
       "      <td>306.733914</td>\n",
       "      <td>...</td>\n",
       "      <td>38.0</td>\n",
       "      <td>492.0</td>\n",
       "      <td>361503.0</td>\n",
       "      <td>26.548018</td>\n",
       "      <td>23.186990</td>\n",
       "      <td>1.0</td>\n",
       "      <td>10.0</td>\n",
       "      <td>21.0</td>\n",
       "      <td>37.0</td>\n",
       "      <td>649.0</td>\n",
       "    </tr>\n",
       "  </tbody>\n",
       "</table>\n",
       "<p>4 rows × 32 columns</p>\n",
       "</div>"
      ],
      "text/plain": [
       "           count_rep1                                                        \\\n",
       "                count          mean            std  min   25%    50%    75%   \n",
       "sample                                                                        \n",
       "Sasaki_DNA   770897.0     25.046151      20.517093  1.0  10.0   20.0   34.0   \n",
       "Sasaki_RNA     4240.0  19467.296226  216936.239338  1.0   1.0    1.0    1.0   \n",
       "ori_DNA      780868.0     32.793997      26.645801  1.0  13.0   27.0   45.0   \n",
       "ori_RNA      361503.0    320.079806     366.562079  1.0  16.0  253.0  463.0   \n",
       "\n",
       "                      count_rep2                ... collapsed_count_rep1  \\\n",
       "                  max      count          mean  ...                  75%   \n",
       "sample                                          ...                        \n",
       "Sasaki_DNA      424.0   770897.0     27.840316  ...                  NaN   \n",
       "Sasaki_RNA  6652075.0     4240.0  21760.177358  ...                  1.0   \n",
       "ori_DNA         445.0   780868.0     52.791426  ...                  NaN   \n",
       "ori_RNA        7680.0   361503.0    306.733914  ...                 38.0   \n",
       "\n",
       "                   collapsed_count_rep2                                    \\\n",
       "               max                count       mean         std  min   25%   \n",
       "sample                                                                      \n",
       "Sasaki_DNA     NaN                  0.0        NaN         NaN  NaN   NaN   \n",
       "Sasaki_RNA  4112.0               4240.0  67.061085  378.256494  1.0   1.0   \n",
       "ori_DNA        NaN                  0.0        NaN         NaN  NaN   NaN   \n",
       "ori_RNA      492.0             361503.0  26.548018   23.186990  1.0  10.0   \n",
       "\n",
       "                                \n",
       "             50%   75%     max  \n",
       "sample                          \n",
       "Sasaki_DNA   NaN   NaN     NaN  \n",
       "Sasaki_RNA   1.0   1.0  3861.0  \n",
       "ori_DNA      NaN   NaN     NaN  \n",
       "ori_RNA     21.0  37.0   649.0  \n",
       "\n",
       "[4 rows x 32 columns]"
      ]
     },
     "execution_count": 8,
     "metadata": {},
     "output_type": "execute_result"
    }
   ],
   "source": [
    "joined_counts.groupby('sample').describe()"
   ]
  },
  {
   "cell_type": "code",
   "execution_count": 9,
   "metadata": {},
   "outputs": [
    {
     "data": {
      "text/html": [
       "<div>\n",
       "<style scoped>\n",
       "    .dataframe tbody tr th:only-of-type {\n",
       "        vertical-align: middle;\n",
       "    }\n",
       "\n",
       "    .dataframe tbody tr th {\n",
       "        vertical-align: top;\n",
       "    }\n",
       "\n",
       "    .dataframe thead th {\n",
       "        text-align: right;\n",
       "    }\n",
       "</style>\n",
       "<table border=\"1\" class=\"dataframe\">\n",
       "  <thead>\n",
       "    <tr style=\"text-align: right;\">\n",
       "      <th></th>\n",
       "      <th>sample</th>\n",
       "      <th>sequence</th>\n",
       "      <th>count_rep1</th>\n",
       "      <th>count_rep2</th>\n",
       "      <th>collapsed_count_rep1</th>\n",
       "      <th>collapsed_count_rep2</th>\n",
       "    </tr>\n",
       "  </thead>\n",
       "  <tbody>\n",
       "    <tr>\n",
       "      <th>361498</th>\n",
       "      <td>ori_RNA</td>\n",
       "      <td>CTATATAACGACATTTCATTACCCGGCTGTGCACCCTGAGGCGGAC...</td>\n",
       "      <td>1</td>\n",
       "      <td>125</td>\n",
       "      <td>1.0</td>\n",
       "      <td>9.0</td>\n",
       "    </tr>\n",
       "    <tr>\n",
       "      <th>361499</th>\n",
       "      <td>ori_RNA</td>\n",
       "      <td>TTATTTACGGTTCTCAGTCTACTAAGCTAGAACAATTGTGATCGTA...</td>\n",
       "      <td>833</td>\n",
       "      <td>3</td>\n",
       "      <td>59.0</td>\n",
       "      <td>3.0</td>\n",
       "    </tr>\n",
       "    <tr>\n",
       "      <th>361500</th>\n",
       "      <td>ori_RNA</td>\n",
       "      <td>CGATATCTACCTTAAAATCCTCGGAAAATGATGAATGCGGCGCGAG...</td>\n",
       "      <td>48</td>\n",
       "      <td>465</td>\n",
       "      <td>10.0</td>\n",
       "      <td>55.0</td>\n",
       "    </tr>\n",
       "    <tr>\n",
       "      <th>361501</th>\n",
       "      <td>ori_RNA</td>\n",
       "      <td>TCAATGGCGATGGCAGTATATCTTCGGGCTTTTATTAAGTGGTCTG...</td>\n",
       "      <td>14</td>\n",
       "      <td>278</td>\n",
       "      <td>5.0</td>\n",
       "      <td>29.0</td>\n",
       "    </tr>\n",
       "    <tr>\n",
       "      <th>361502</th>\n",
       "      <td>ori_RNA</td>\n",
       "      <td>TTCCCGGTACTTCTCATGTGTCATGATAGTGGGGTTTTACTACAGA...</td>\n",
       "      <td>1</td>\n",
       "      <td>378</td>\n",
       "      <td>1.0</td>\n",
       "      <td>31.0</td>\n",
       "    </tr>\n",
       "  </tbody>\n",
       "</table>\n",
       "</div>"
      ],
      "text/plain": [
       "         sample                                           sequence  \\\n",
       "361498  ori_RNA  CTATATAACGACATTTCATTACCCGGCTGTGCACCCTGAGGCGGAC...   \n",
       "361499  ori_RNA  TTATTTACGGTTCTCAGTCTACTAAGCTAGAACAATTGTGATCGTA...   \n",
       "361500  ori_RNA  CGATATCTACCTTAAAATCCTCGGAAAATGATGAATGCGGCGCGAG...   \n",
       "361501  ori_RNA  TCAATGGCGATGGCAGTATATCTTCGGGCTTTTATTAAGTGGTCTG...   \n",
       "361502  ori_RNA  TTCCCGGTACTTCTCATGTGTCATGATAGTGGGGTTTTACTACAGA...   \n",
       "\n",
       "        count_rep1  count_rep2  collapsed_count_rep1  collapsed_count_rep2  \n",
       "361498           1         125                   1.0                   9.0  \n",
       "361499         833           3                  59.0                   3.0  \n",
       "361500          48         465                  10.0                  55.0  \n",
       "361501          14         278                   5.0                  29.0  \n",
       "361502           1         378                   1.0                  31.0  "
      ]
     },
     "execution_count": 9,
     "metadata": {},
     "output_type": "execute_result"
    }
   ],
   "source": [
    "joined_counts.tail()"
   ]
  },
  {
   "cell_type": "markdown",
   "metadata": {},
   "source": [
    "Look at correlation between replicates."
   ]
  },
  {
   "cell_type": "code",
   "execution_count": 10,
   "metadata": {},
   "outputs": [
    {
     "data": {
      "text/plain": [
       "<seaborn.axisgrid.FacetGrid at 0x26f865136a0>"
      ]
     },
     "execution_count": 10,
     "metadata": {},
     "output_type": "execute_result"
    },
    {
     "data": {
      "image/png": "[encoded data removed]",
      "text/plain": [
       "<Figure size 864x216 with 4 Axes>"
      ]
     },
     "metadata": {
      "needs_background": "light"
     },
     "output_type": "display_data"
    }
   ],
   "source": [
    "g = sns.FacetGrid(data=joined_counts, col='sample', sharex=False, sharey=False)\n",
    "g.map(sns.scatterplot, 'count_rep1', 'count_rep2', linewidth=0, alpha=0.5)"
   ]
  },
  {
   "cell_type": "code",
   "execution_count": 11,
   "metadata": {},
   "outputs": [],
   "source": [
    "def get_pearson(sample, variable):\n",
    "    rep1_counts = joined_counts.loc[joined_counts['sample'] == sample][f'{variable}_rep1']\n",
    "    rep2_counts = joined_counts.loc[joined_counts['sample'] == sample][f'{variable}_rep2']\n",
    "    return stats.pearsonr(rep1_counts, rep2_counts)"
   ]
  },
  {
   "cell_type": "code",
   "execution_count": 12,
   "metadata": {},
   "outputs": [
    {
     "name": "stdout",
     "output_type": "stream",
     "text": [
      "Sasaki_DNA: Pearson r = 0.9267801925435093, p-value = 0.0\n",
      "Sasaki_RNA: Pearson r = -0.008410582300500149, p-value = 0.5840313921327824\n",
      "ori_DNA: Pearson r = 0.9389412333112275, p-value = 0.0\n",
      "ori_RNA: Pearson r = 0.20574367890169068, p-value = 0.0\n"
     ]
    }
   ],
   "source": [
    "sample_names = ['Sasaki_DNA', 'Sasaki_RNA', 'ori_DNA', 'ori_RNA']\n",
    "for name in sample_names:\n",
    "    cor, p = get_pearson(name, 'count')\n",
    "    print(f'{name}: Pearson r = {cor}, p-value = {p}')"
   ]
  },
  {
   "cell_type": "code",
   "execution_count": 13,
   "metadata": {},
   "outputs": [
    {
     "data": {
      "text/plain": [
       "<seaborn.axisgrid.FacetGrid at 0x26fa80ea440>"
      ]
     },
     "execution_count": 13,
     "metadata": {},
     "output_type": "execute_result"
    },
    {
     "data": {
      "image/png": "[encoded data removed]",
      "text/plain": [
       "<Figure size 432x216 with 2 Axes>"
      ]
     },
     "metadata": {
      "needs_background": "light"
     },
     "output_type": "display_data"
    }
   ],
   "source": [
    "g = sns.FacetGrid(data=joined_counts, col='sample', col_order=['Sasaki_RNA', 'ori_RNA'], sharex=False, sharey=False)\n",
    "g.map(sns.scatterplot, 'collapsed_count_rep1', 'collapsed_count_rep2', linewidth=0, alpha=0.5)"
   ]
  },
  {
   "cell_type": "code",
   "execution_count": 14,
   "metadata": {},
   "outputs": [
    {
     "name": "stdout",
     "output_type": "stream",
     "text": [
      "Sasaki_RNA: Pearson r = -0.017946663389725184, p-value = 0.2426649784042331\n",
      "ori_RNA: Pearson r = 0.24253372534709114, p-value = 0.0\n"
     ]
    }
   ],
   "source": [
    "sample_names = ['Sasaki_RNA', 'ori_RNA']\n",
    "for name in sample_names:\n",
    "    cor, p = get_pearson(name, 'collapsed_count')\n",
    "    print(f'{name}: Pearson r = {cor}, p-value = {p}')"
   ]
  }
 ],
 "metadata": {
  "kernelspec": {
   "display_name": "Python 3",
   "language": "python",
   "name": "python3"
  },
  "language_info": {
   "codemirror_mode": {
    "name": "ipython",
    "version": 3
   },
   "file_extension": ".py",
   "mimetype": "text/x-python",
   "name": "python",
   "nbconvert_exporter": "python",
   "pygments_lexer": "ipython3",
   "version": "3.10.4"
  },
  "orig_nbformat": 4
 },
 "nbformat": 4,
 "nbformat_minor": 2
}
