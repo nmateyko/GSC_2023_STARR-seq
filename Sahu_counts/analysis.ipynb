{
 "cells": [
  {
   "cell_type": "code",
   "execution_count": 4,
   "metadata": {},
   "outputs": [],
   "source": [
    "import pandas as pd\n",
    "import matplotlib.pyplot as plt\n",
    "import seaborn as sns\n",
    "import numpy as np\n",
    "import scipy.stats as stats"
   ]
  },
  {
   "cell_type": "code",
   "execution_count": 6,
   "metadata": {},
   "outputs": [],
   "source": [
    "Sahu_DNA_rep1 = pd.read_csv('counts/DNA_rep_1_counts.txt', sep='\\t', names=['sequence', 'count'])\n",
    "Sahu_DNA_rep2 = pd.read_csv('counts/DNA_rep_2_counts.txt', sep='\\t', names=['sequence', 'count'])\n",
    "Sahu_RNA_rep1 = pd.read_csv('counts/RNA_GP5d_rep_1_counts.txt', sep='\\t', names=['sequence', 'count'])\n",
    "Sahu_RNA_rep2 = pd.read_csv('counts/RNA_GP5d_rep_2_counts.txt', sep='\\t', names=['sequence', 'count'])"
   ]
  },
  {
   "cell_type": "code",
   "execution_count": 7,
   "metadata": {},
   "outputs": [
    {
     "data": {
      "text/html": [
       "<div>\n",
       "<style scoped>\n",
       "    .dataframe tbody tr th:only-of-type {\n",
       "        vertical-align: middle;\n",
       "    }\n",
       "\n",
       "    .dataframe tbody tr th {\n",
       "        vertical-align: top;\n",
       "    }\n",
       "\n",
       "    .dataframe thead th {\n",
       "        text-align: right;\n",
       "    }\n",
       "</style>\n",
       "<table border=\"1\" class=\"dataframe\">\n",
       "  <thead>\n",
       "    <tr style=\"text-align: right;\">\n",
       "      <th></th>\n",
       "      <th>count_1</th>\n",
       "      <th>count_2</th>\n",
       "    </tr>\n",
       "  </thead>\n",
       "  <tbody>\n",
       "    <tr>\n",
       "      <th>count</th>\n",
       "      <td>451497.000000</td>\n",
       "      <td>451497.000000</td>\n",
       "    </tr>\n",
       "    <tr>\n",
       "      <th>mean</th>\n",
       "      <td>11.289151</td>\n",
       "      <td>13.454364</td>\n",
       "    </tr>\n",
       "    <tr>\n",
       "      <th>std</th>\n",
       "      <td>11.238077</td>\n",
       "      <td>12.771203</td>\n",
       "    </tr>\n",
       "    <tr>\n",
       "      <th>min</th>\n",
       "      <td>1.000000</td>\n",
       "      <td>1.000000</td>\n",
       "    </tr>\n",
       "    <tr>\n",
       "      <th>25%</th>\n",
       "      <td>6.000000</td>\n",
       "      <td>8.000000</td>\n",
       "    </tr>\n",
       "    <tr>\n",
       "      <th>50%</th>\n",
       "      <td>9.000000</td>\n",
       "      <td>11.000000</td>\n",
       "    </tr>\n",
       "    <tr>\n",
       "      <th>75%</th>\n",
       "      <td>13.000000</td>\n",
       "      <td>15.000000</td>\n",
       "    </tr>\n",
       "    <tr>\n",
       "      <th>max</th>\n",
       "      <td>1723.000000</td>\n",
       "      <td>1650.000000</td>\n",
       "    </tr>\n",
       "  </tbody>\n",
       "</table>\n",
       "</div>"
      ],
      "text/plain": [
       "             count_1        count_2\n",
       "count  451497.000000  451497.000000\n",
       "mean       11.289151      13.454364\n",
       "std        11.238077      12.771203\n",
       "min         1.000000       1.000000\n",
       "25%         6.000000       8.000000\n",
       "50%         9.000000      11.000000\n",
       "75%        13.000000      15.000000\n",
       "max      1723.000000    1650.000000"
      ]
     },
     "execution_count": 7,
     "metadata": {},
     "output_type": "execute_result"
    }
   ],
   "source": [
    "joined_RNA = Sahu_RNA_rep1.merge(Sahu_RNA_rep2, on='sequence', how='inner', suffixes=('_1', '_2'))\n",
    "joined_RNA.describe()"
   ]
  },
  {
   "cell_type": "code",
   "execution_count": 10,
   "metadata": {},
   "outputs": [
    {
     "data": {
      "text/plain": [
       "8.0"
      ]
     },
     "execution_count": 10,
     "metadata": {},
     "output_type": "execute_result"
    }
   ],
   "source": [
    "Sahu_RNA_rep1['count'].median()"
   ]
  },
  {
   "cell_type": "code",
   "execution_count": 13,
   "metadata": {},
   "outputs": [
    {
     "data": {
      "text/plain": [
       "5071382"
      ]
     },
     "execution_count": 13,
     "metadata": {},
     "output_type": "execute_result"
    }
   ],
   "source": [
    "sum(count > 5 for count in Sahu_RNA_rep1['count'])"
   ]
  },
  {
   "cell_type": "code",
   "execution_count": 9,
   "metadata": {},
   "outputs": [
    {
     "data": {
      "text/plain": [
       "(array([1.91783e+05, 3.19566e+05, 4.77487e+05, 6.30578e+05, 7.46954e+05,\n",
       "        7.98732e+05, 7.72720e+05, 6.89667e+05, 5.68454e+05, 4.37896e+05,\n",
       "        3.17775e+05, 2.20158e+05, 1.47795e+05, 9.76040e+04, 6.46940e+04,\n",
       "        4.40390e+04, 3.09070e+04, 2.29680e+04, 1.79620e+04, 1.38540e+04,\n",
       "        1.16360e+04, 9.48600e+03, 7.55800e+03, 6.39700e+03, 5.44300e+03,\n",
       "        4.61500e+03, 3.87100e+03, 3.26900e+03, 2.82300e+03, 2.40800e+03,\n",
       "        2.10100e+03, 1.91900e+03, 1.65200e+03, 1.48900e+03, 1.27900e+03,\n",
       "        1.17100e+03, 1.07100e+03, 8.97000e+02, 8.50000e+02, 7.72000e+02,\n",
       "        6.18000e+02, 5.59000e+02, 5.25000e+02, 4.79000e+02, 4.54000e+02,\n",
       "        3.97000e+02, 3.60000e+02, 3.17000e+02, 2.98000e+02, 2.87000e+02,\n",
       "        2.40000e+02, 2.18000e+02, 2.02000e+02, 1.85000e+02, 1.85000e+02,\n",
       "        1.81000e+02, 1.29000e+02, 1.53000e+02, 1.44000e+02, 1.17000e+02,\n",
       "        1.08000e+02, 1.16000e+02, 1.24000e+02, 9.40000e+01, 8.30000e+01,\n",
       "        8.10000e+01, 8.90000e+01, 7.40000e+01, 6.90000e+01, 6.30000e+01,\n",
       "        6.10000e+01, 3.80000e+01, 4.60000e+01, 4.80000e+01, 4.90000e+01,\n",
       "        6.10000e+01, 3.70000e+01, 5.00000e+01, 4.10000e+01, 4.10000e+01,\n",
       "        4.20000e+01, 3.70000e+01, 3.30000e+01, 3.40000e+01, 2.00000e+01,\n",
       "        3.30000e+01, 2.80000e+01, 3.00000e+01, 3.50000e+01, 2.90000e+01,\n",
       "        2.70000e+01, 1.90000e+01, 1.50000e+01, 2.00000e+01, 1.10000e+01,\n",
       "        1.90000e+01, 1.80000e+01, 4.30000e+01]),\n",
       " array([  2.,   3.,   4.,   5.,   6.,   7.,   8.,   9.,  10.,  11.,  12.,\n",
       "         13.,  14.,  15.,  16.,  17.,  18.,  19.,  20.,  21.,  22.,  23.,\n",
       "         24.,  25.,  26.,  27.,  28.,  29.,  30.,  31.,  32.,  33.,  34.,\n",
       "         35.,  36.,  37.,  38.,  39.,  40.,  41.,  42.,  43.,  44.,  45.,\n",
       "         46.,  47.,  48.,  49.,  50.,  51.,  52.,  53.,  54.,  55.,  56.,\n",
       "         57.,  58.,  59.,  60.,  61.,  62.,  63.,  64.,  65.,  66.,  67.,\n",
       "         68.,  69.,  70.,  71.,  72.,  73.,  74.,  75.,  76.,  77.,  78.,\n",
       "         79.,  80.,  81.,  82.,  83.,  84.,  85.,  86.,  87.,  88.,  89.,\n",
       "         90.,  91.,  92.,  93.,  94.,  95.,  96.,  97.,  98.,  99., 100.]),\n",
       " <BarContainer object of 98 artists>)"
      ]
     },
     "execution_count": 9,
     "metadata": {},
     "output_type": "execute_result"
    },
    {
     "data": {
      "image/png": "[encoded data removed]",
      "text/plain": [
       "<Figure size 432x288 with 1 Axes>"
      ]
     },
     "metadata": {
      "needs_background": "light"
     },
     "output_type": "display_data"
    }
   ],
   "source": [
    "plt.hist(x=Sahu_RNA_rep1['count'], range=(2, 100), bins=98)"
   ]
  }
 ],
 "metadata": {
  "kernelspec": {
   "display_name": "Python 3",
   "language": "python",
   "name": "python3"
  },
  "language_info": {
   "codemirror_mode": {
    "name": "ipython",
    "version": 3
   },
   "file_extension": ".py",
   "mimetype": "text/x-python",
   "name": "python",
   "nbconvert_exporter": "python",
   "pygments_lexer": "ipython3",
   "version": "3.10.4"
  },
  "orig_nbformat": 4
 },
 "nbformat": 4,
 "nbformat_minor": 2
}
